{
 "cells": [
  {
   "cell_type": "code",
   "execution_count": 1,
   "metadata": {},
   "outputs": [],
   "source": [
    "import pandas as pd \n",
    "import matplotlib as plt\n",
    "import numpy as np\n",
    "import joblib"
   ]
  },
  {
   "cell_type": "markdown",
   "metadata": {},
   "source": [
    "## Data Exploration:"
   ]
  },
  {
   "cell_type": "code",
   "execution_count": 2,
   "metadata": {},
   "outputs": [],
   "source": [
    "df1=pd.read_csv(r'archive/Friday-WorkingHours-Morning.pcap_ISCX.csv')\n",
    "df2=pd.read_csv(r'archive/Thursday-WorkingHours-Morning-WebAttacks.pcap_ISCX.csv')\n",
    "df3=pd.read_csv(r'archive/Tuesday-WorkingHours.pcap_ISCX.csv')\n",
    "df4=pd.read_csv(r'archive/Friday-WorkingHours-Afternoon-DDos.pcap_ISCX.csv')\n",
    "df5=pd.read_csv(r'archive/Monday-WorkingHours.pcap_ISCX.csv')\n",
    "df6=pd.read_csv(r'archive/Friday-WorkingHours-Morning.pcap_ISCX.csv')\n",
    "df7=pd.read_csv(r'archive/Thursday-WorkingHours-Afternoon-Infilteration.pcap_ISCX.csv')\n",
    "df8=pd.read_csv(r'archive/Wednesday-workingHours.pcap_ISCX.csv')"
   ]
  },
  {
   "cell_type": "code",
   "execution_count": 3,
   "metadata": {},
   "outputs": [],
   "source": [
    "df = pd.concat([df1, df2, df3, df4, df5, df6, df7, df8], axis=0, ignore_index=True)"
   ]
  },
  {
   "cell_type": "code",
   "execution_count": 4,
   "metadata": {},
   "outputs": [
    {
     "data": {
      "text/html": [
       "<div>\n",
       "<style scoped>\n",
       "    .dataframe tbody tr th:only-of-type {\n",
       "        vertical-align: middle;\n",
       "    }\n",
       "\n",
       "    .dataframe tbody tr th {\n",
       "        vertical-align: top;\n",
       "    }\n",
       "\n",
       "    .dataframe thead th {\n",
       "        text-align: right;\n",
       "    }\n",
       "</style>\n",
       "<table border=\"1\" class=\"dataframe\">\n",
       "  <thead>\n",
       "    <tr style=\"text-align: right;\">\n",
       "      <th></th>\n",
       "      <th>Destination Port</th>\n",
       "      <th>Flow Duration</th>\n",
       "      <th>Total Fwd Packets</th>\n",
       "      <th>Total Backward Packets</th>\n",
       "      <th>Total Length of Fwd Packets</th>\n",
       "      <th>Total Length of Bwd Packets</th>\n",
       "      <th>Fwd Packet Length Max</th>\n",
       "      <th>Fwd Packet Length Min</th>\n",
       "      <th>Fwd Packet Length Mean</th>\n",
       "      <th>Fwd Packet Length Std</th>\n",
       "      <th>...</th>\n",
       "      <th>min_seg_size_forward</th>\n",
       "      <th>Active Mean</th>\n",
       "      <th>Active Std</th>\n",
       "      <th>Active Max</th>\n",
       "      <th>Active Min</th>\n",
       "      <th>Idle Mean</th>\n",
       "      <th>Idle Std</th>\n",
       "      <th>Idle Max</th>\n",
       "      <th>Idle Min</th>\n",
       "      <th>Label</th>\n",
       "    </tr>\n",
       "  </thead>\n",
       "  <tbody>\n",
       "    <tr>\n",
       "      <th>0</th>\n",
       "      <td>3268</td>\n",
       "      <td>112740690</td>\n",
       "      <td>32</td>\n",
       "      <td>16</td>\n",
       "      <td>6448</td>\n",
       "      <td>1152</td>\n",
       "      <td>403</td>\n",
       "      <td>0</td>\n",
       "      <td>201.5</td>\n",
       "      <td>204.724205</td>\n",
       "      <td>...</td>\n",
       "      <td>32</td>\n",
       "      <td>3.594286e+02</td>\n",
       "      <td>1.199802e+01</td>\n",
       "      <td>380</td>\n",
       "      <td>343</td>\n",
       "      <td>16100000.0</td>\n",
       "      <td>4.988048e+05</td>\n",
       "      <td>16400000</td>\n",
       "      <td>15400000</td>\n",
       "      <td>BENIGN</td>\n",
       "    </tr>\n",
       "    <tr>\n",
       "      <th>1</th>\n",
       "      <td>389</td>\n",
       "      <td>112740560</td>\n",
       "      <td>32</td>\n",
       "      <td>16</td>\n",
       "      <td>6448</td>\n",
       "      <td>5056</td>\n",
       "      <td>403</td>\n",
       "      <td>0</td>\n",
       "      <td>201.5</td>\n",
       "      <td>204.724205</td>\n",
       "      <td>...</td>\n",
       "      <td>32</td>\n",
       "      <td>3.202857e+02</td>\n",
       "      <td>1.574499e+01</td>\n",
       "      <td>330</td>\n",
       "      <td>285</td>\n",
       "      <td>16100000.0</td>\n",
       "      <td>4.987937e+05</td>\n",
       "      <td>16400000</td>\n",
       "      <td>15400000</td>\n",
       "      <td>BENIGN</td>\n",
       "    </tr>\n",
       "    <tr>\n",
       "      <th>2</th>\n",
       "      <td>0</td>\n",
       "      <td>113757377</td>\n",
       "      <td>545</td>\n",
       "      <td>0</td>\n",
       "      <td>0</td>\n",
       "      <td>0</td>\n",
       "      <td>0</td>\n",
       "      <td>0</td>\n",
       "      <td>0.0</td>\n",
       "      <td>0.000000</td>\n",
       "      <td>...</td>\n",
       "      <td>0</td>\n",
       "      <td>9.361829e+06</td>\n",
       "      <td>7.324646e+06</td>\n",
       "      <td>18900000</td>\n",
       "      <td>19</td>\n",
       "      <td>12200000.0</td>\n",
       "      <td>6.935824e+06</td>\n",
       "      <td>20800000</td>\n",
       "      <td>5504997</td>\n",
       "      <td>BENIGN</td>\n",
       "    </tr>\n",
       "    <tr>\n",
       "      <th>3</th>\n",
       "      <td>5355</td>\n",
       "      <td>100126</td>\n",
       "      <td>22</td>\n",
       "      <td>0</td>\n",
       "      <td>616</td>\n",
       "      <td>0</td>\n",
       "      <td>28</td>\n",
       "      <td>28</td>\n",
       "      <td>28.0</td>\n",
       "      <td>0.000000</td>\n",
       "      <td>...</td>\n",
       "      <td>32</td>\n",
       "      <td>0.000000e+00</td>\n",
       "      <td>0.000000e+00</td>\n",
       "      <td>0</td>\n",
       "      <td>0</td>\n",
       "      <td>0.0</td>\n",
       "      <td>0.000000e+00</td>\n",
       "      <td>0</td>\n",
       "      <td>0</td>\n",
       "      <td>BENIGN</td>\n",
       "    </tr>\n",
       "    <tr>\n",
       "      <th>4</th>\n",
       "      <td>0</td>\n",
       "      <td>54760</td>\n",
       "      <td>4</td>\n",
       "      <td>0</td>\n",
       "      <td>0</td>\n",
       "      <td>0</td>\n",
       "      <td>0</td>\n",
       "      <td>0</td>\n",
       "      <td>0.0</td>\n",
       "      <td>0.000000</td>\n",
       "      <td>...</td>\n",
       "      <td>0</td>\n",
       "      <td>0.000000e+00</td>\n",
       "      <td>0.000000e+00</td>\n",
       "      <td>0</td>\n",
       "      <td>0</td>\n",
       "      <td>0.0</td>\n",
       "      <td>0.000000e+00</td>\n",
       "      <td>0</td>\n",
       "      <td>0</td>\n",
       "      <td>BENIGN</td>\n",
       "    </tr>\n",
       "  </tbody>\n",
       "</table>\n",
       "<p>5 rows × 79 columns</p>\n",
       "</div>"
      ],
      "text/plain": [
       "    Destination Port   Flow Duration   Total Fwd Packets  \\\n",
       "0               3268       112740690                  32   \n",
       "1                389       112740560                  32   \n",
       "2                  0       113757377                 545   \n",
       "3               5355          100126                  22   \n",
       "4                  0           54760                   4   \n",
       "\n",
       "    Total Backward Packets  Total Length of Fwd Packets  \\\n",
       "0                       16                         6448   \n",
       "1                       16                         6448   \n",
       "2                        0                            0   \n",
       "3                        0                          616   \n",
       "4                        0                            0   \n",
       "\n",
       "    Total Length of Bwd Packets   Fwd Packet Length Max  \\\n",
       "0                          1152                     403   \n",
       "1                          5056                     403   \n",
       "2                             0                       0   \n",
       "3                             0                      28   \n",
       "4                             0                       0   \n",
       "\n",
       "    Fwd Packet Length Min   Fwd Packet Length Mean   Fwd Packet Length Std  \\\n",
       "0                       0                    201.5              204.724205   \n",
       "1                       0                    201.5              204.724205   \n",
       "2                       0                      0.0                0.000000   \n",
       "3                      28                     28.0                0.000000   \n",
       "4                       0                      0.0                0.000000   \n",
       "\n",
       "   ...   min_seg_size_forward   Active Mean    Active Std   Active Max  \\\n",
       "0  ...                     32  3.594286e+02  1.199802e+01          380   \n",
       "1  ...                     32  3.202857e+02  1.574499e+01          330   \n",
       "2  ...                      0  9.361829e+06  7.324646e+06     18900000   \n",
       "3  ...                     32  0.000000e+00  0.000000e+00            0   \n",
       "4  ...                      0  0.000000e+00  0.000000e+00            0   \n",
       "\n",
       "    Active Min   Idle Mean      Idle Std   Idle Max   Idle Min   Label  \n",
       "0          343  16100000.0  4.988048e+05   16400000   15400000  BENIGN  \n",
       "1          285  16100000.0  4.987937e+05   16400000   15400000  BENIGN  \n",
       "2           19  12200000.0  6.935824e+06   20800000    5504997  BENIGN  \n",
       "3            0         0.0  0.000000e+00          0          0  BENIGN  \n",
       "4            0         0.0  0.000000e+00          0          0  BENIGN  \n",
       "\n",
       "[5 rows x 79 columns]"
      ]
     },
     "execution_count": 4,
     "metadata": {},
     "output_type": "execute_result"
    }
   ],
   "source": [
    "#df = pd.read_csv(\"archive/Wednesday-workingHours.pcap_ISCX.csv\")\n",
    "df.head()\n",
    "# 79 columns!!!"
   ]
  },
  {
   "cell_type": "code",
   "execution_count": 5,
   "metadata": {},
   "outputs": [
    {
     "data": {
      "text/plain": [
       "Index([' Destination Port', ' Flow Duration', ' Total Fwd Packets',\n",
       "       ' Total Backward Packets', 'Total Length of Fwd Packets',\n",
       "       ' Total Length of Bwd Packets', ' Fwd Packet Length Max',\n",
       "       ' Fwd Packet Length Min', ' Fwd Packet Length Mean',\n",
       "       ' Fwd Packet Length Std', 'Bwd Packet Length Max',\n",
       "       ' Bwd Packet Length Min', ' Bwd Packet Length Mean',\n",
       "       ' Bwd Packet Length Std', 'Flow Bytes/s', ' Flow Packets/s',\n",
       "       ' Flow IAT Mean', ' Flow IAT Std', ' Flow IAT Max', ' Flow IAT Min',\n",
       "       'Fwd IAT Total', ' Fwd IAT Mean', ' Fwd IAT Std', ' Fwd IAT Max',\n",
       "       ' Fwd IAT Min', 'Bwd IAT Total', ' Bwd IAT Mean', ' Bwd IAT Std',\n",
       "       ' Bwd IAT Max', ' Bwd IAT Min', 'Fwd PSH Flags', ' Bwd PSH Flags',\n",
       "       ' Fwd URG Flags', ' Bwd URG Flags', ' Fwd Header Length',\n",
       "       ' Bwd Header Length', 'Fwd Packets/s', ' Bwd Packets/s',\n",
       "       ' Min Packet Length', ' Max Packet Length', ' Packet Length Mean',\n",
       "       ' Packet Length Std', ' Packet Length Variance', 'FIN Flag Count',\n",
       "       ' SYN Flag Count', ' RST Flag Count', ' PSH Flag Count',\n",
       "       ' ACK Flag Count', ' URG Flag Count', ' CWE Flag Count',\n",
       "       ' ECE Flag Count', ' Down/Up Ratio', ' Average Packet Size',\n",
       "       ' Avg Fwd Segment Size', ' Avg Bwd Segment Size',\n",
       "       ' Fwd Header Length.1', 'Fwd Avg Bytes/Bulk', ' Fwd Avg Packets/Bulk',\n",
       "       ' Fwd Avg Bulk Rate', ' Bwd Avg Bytes/Bulk', ' Bwd Avg Packets/Bulk',\n",
       "       'Bwd Avg Bulk Rate', 'Subflow Fwd Packets', ' Subflow Fwd Bytes',\n",
       "       ' Subflow Bwd Packets', ' Subflow Bwd Bytes', 'Init_Win_bytes_forward',\n",
       "       ' Init_Win_bytes_backward', ' act_data_pkt_fwd',\n",
       "       ' min_seg_size_forward', 'Active Mean', ' Active Std', ' Active Max',\n",
       "       ' Active Min', 'Idle Mean', ' Idle Std', ' Idle Max', ' Idle Min',\n",
       "       ' Label'],\n",
       "      dtype='object')"
      ]
     },
     "execution_count": 5,
     "metadata": {},
     "output_type": "execute_result"
    }
   ],
   "source": [
    "df.columns"
   ]
  },
  {
   "cell_type": "code",
   "execution_count": 6,
   "metadata": {},
   "outputs": [
    {
     "data": {
      "text/plain": [
       "Label\n",
       "BENIGN                        2334627\n",
       "DoS Hulk                       231073\n",
       "DDoS                           128027\n",
       "DoS GoldenEye                   10293\n",
       "FTP-Patator                      7938\n",
       "SSH-Patator                      5897\n",
       "DoS slowloris                    5796\n",
       "DoS Slowhttptest                 5499\n",
       "Bot                              3932\n",
       "Web Attack � Brute Force         1507\n",
       "Web Attack � XSS                  652\n",
       "Infiltration                       36\n",
       "Web Attack � Sql Injection         21\n",
       "Heartbleed                         11\n",
       "Name: count, dtype: int64"
      ]
     },
     "execution_count": 6,
     "metadata": {},
     "output_type": "execute_result"
    }
   ],
   "source": [
    "#Fixing spaces in columns and verifing Labels\n",
    "df.columns = df.columns.str.strip()\n",
    "df[\"Label\"].value_counts()\n",
    "#Data can be used for graph vis "
   ]
  },
  {
   "cell_type": "markdown",
   "metadata": {},
   "source": [
    "We can se that there is 5 types of labels each one being a different type of attack"
   ]
  },
  {
   "cell_type": "markdown",
   "metadata": {},
   "source": [
    "## Pre-Processing"
   ]
  },
  {
   "cell_type": "code",
   "execution_count": 7,
   "metadata": {},
   "outputs": [
    {
     "data": {
      "text/plain": [
       "np.int64(1371)"
      ]
     },
     "execution_count": 7,
     "metadata": {},
     "output_type": "execute_result"
    }
   ],
   "source": [
    "#Checking for nulls\n",
    "\n",
    "nulls_columns = df.columns[df.isnull().any()].tolist()\n",
    "df.isna().sum().sum()"
   ]
  },
  {
   "cell_type": "code",
   "execution_count": 8,
   "metadata": {},
   "outputs": [
    {
     "data": {
      "text/plain": [
       "['Flow Bytes/s']"
      ]
     },
     "execution_count": 8,
     "metadata": {},
     "output_type": "execute_result"
    }
   ],
   "source": [
    "nulls_columns\n",
    "#every null is in the same columns !!!"
   ]
  },
  {
   "cell_type": "code",
   "execution_count": 9,
   "metadata": {},
   "outputs": [
    {
     "data": {
      "text/plain": [
       "Label\n",
       "DoS Hulk    949\n",
       "BENIGN      422\n",
       "Name: count, dtype: int64"
      ]
     },
     "execution_count": 9,
     "metadata": {},
     "output_type": "execute_result"
    }
   ],
   "source": [
    "# checking if nulls has any relationship with Label\n",
    "df_nulos = df[df.isnull().any(axis=1)]\n",
    "df_nulos[\"Label\"].value_counts()\n"
   ]
  },
  {
   "cell_type": "code",
   "execution_count": 10,
   "metadata": {},
   "outputs": [
    {
     "data": {
      "text/plain": [
       "np.int64(0)"
      ]
     },
     "execution_count": 10,
     "metadata": {},
     "output_type": "execute_result"
    }
   ],
   "source": [
    "#Besisdes it looks like it has relationship with Dos Hulk Label ,decided to drops nulls because of the small relevance to dataset\n",
    "# But for future tests, nulls could be change for 0 or mean value of the column\n",
    "df = df.dropna()\n",
    "df.isna().sum().sum()"
   ]
  },
  {
   "cell_type": "code",
   "execution_count": 11,
   "metadata": {},
   "outputs": [
    {
     "data": {
      "text/plain": [
       "np.int64(2494)"
      ]
     },
     "execution_count": 11,
     "metadata": {},
     "output_type": "execute_result"
    }
   ],
   "source": [
    "#Checking for inf\n",
    "label_save = df\n",
    "df_check = df.drop(axis=1,labels=\"Label\")\n",
    "np.isinf(df_check).sum().sum()"
   ]
  },
  {
   "cell_type": "code",
   "execution_count": 12,
   "metadata": {},
   "outputs": [],
   "source": [
    "# Remove inf from original df\n",
    "df_check = df_check[~np.isinf(df_check).any(axis=1)]\n",
    "\n",
    "np.any(np.isinf(df_check))\n",
    "\n",
    "df = df_check"
   ]
  },
  {
   "cell_type": "code",
   "execution_count": 13,
   "metadata": {},
   "outputs": [],
   "source": [
    "df[\"Label\"] = label_save[\"Label\"]"
   ]
  },
  {
   "cell_type": "code",
   "execution_count": 14,
   "metadata": {},
   "outputs": [],
   "source": [
    "## ENCODING Labels into 0 and 1  Attack/Normal\n",
    "from sklearn.preprocessing import LabelEncoder\n",
    "encoder = LabelEncoder()\n",
    "df_test = df\n",
    "df_test['Label']= encoder.fit_transform(df['Label'])\n",
    "df_test.value_counts().sum\n",
    "df_test['Label'] = df_test['Label'].apply(lambda x: 1 if x in [2, 3, 4, 5,6,7,8,9,10,11,12,13] else x)\n",
    "df_test = df"
   ]
  },
  {
   "cell_type": "code",
   "execution_count": 15,
   "metadata": {},
   "outputs": [
    {
     "data": {
      "text/plain": [
       "Label\n",
       "0    2332983\n",
       "1     399708\n",
       "Name: count, dtype: int64"
      ]
     },
     "execution_count": 15,
     "metadata": {},
     "output_type": "execute_result"
    }
   ],
   "source": [
    "\n",
    "df[\"Label\"].value_counts()"
   ]
  },
  {
   "cell_type": "code",
   "execution_count": null,
   "metadata": {},
   "outputs": [
    {
     "name": "stdout",
     "output_type": "stream",
     "text": [
      "Distribuição das classes após undersampling:\n",
      "Label\n",
      "0    2332983\n",
      "1    2332983\n",
      "Name: count, dtype: int64\n"
     ]
    }
   ],
   "source": [
    "from sklearn.utils import resample\n",
    "import pandas as pd\n",
    "\n",
    "# 'Label' contém 0 (classe majoritária) e 1 (classe minoritária)\n",
    "\n",
    "# Separando as classes majoritária e minoritária\n",
    "df_majority = df[df['Label'] == 0]\n",
    "df_minority = df[df['Label'] == 1]\n",
    "\n",
    "\n",
    "df_minority_oversampled = resample(\n",
    "    df_minority, \n",
    "    replace=True,        \n",
    "    n_samples=len(df_majority),  \n",
    "    random_state=17       \n",
    ")\n",
    "\n",
    "# juntando dataset\n",
    "df_balanced = pd.concat([df_majority, df_minority_oversampled])\n",
    "\n",
    "# print dataset final\n",
    "print(\"Distribuição das classes após undersampling:\")\n",
    "print(df_balanced['Label'].value_counts())"
   ]
  },
  {
   "cell_type": "markdown",
   "metadata": {},
   "source": [
    "Choosing most relevants labels for the model"
   ]
  },
  {
   "cell_type": "code",
   "execution_count": 17,
   "metadata": {},
   "outputs": [],
   "source": [
    "df = df_balanced"
   ]
  },
  {
   "cell_type": "code",
   "execution_count": 18,
   "metadata": {},
   "outputs": [
    {
     "name": "stdout",
     "output_type": "stream",
     "text": [
      "Label                     1.000000\n",
      "Bwd Packet Length Mean    0.579392\n",
      "Avg Bwd Segment Size      0.579392\n",
      "Bwd Packet Length Max     0.568353\n",
      "Bwd Packet Length Std     0.566489\n",
      "                            ...   \n",
      "Fwd Avg Packets/Bulk           NaN\n",
      "Fwd Avg Bulk Rate              NaN\n",
      "Bwd Avg Bytes/Bulk             NaN\n",
      "Bwd Avg Packets/Bulk           NaN\n",
      "Bwd Avg Bulk Rate              NaN\n",
      "Name: Label, Length: 79, dtype: float64\n"
     ]
    }
   ],
   "source": [
    "#Create a csv with all correlations so we can see better\n",
    "correlations = df.corr()['Label'].sort_values(ascending=False)\n",
    "correlations.to_csv('correlations.csv', header=True)\n",
    "# Shows bests correlations\n",
    "print(correlations)"
   ]
  },
  {
   "cell_type": "code",
   "execution_count": null,
   "metadata": {},
   "outputs": [
    {
     "name": "stderr",
     "output_type": "stream",
     "text": [
      "/Users/gabriel_goncalves/Desktop/Trabalho_SI/venv_py_3_12/lib/python3.12/site-packages/sklearn/feature_selection/_univariate_selection.py:111: UserWarning: Features [31 33 56 57 58 59 60 61] are constant.\n",
      "  warnings.warn(\"Features %s are constant.\" % constant_features_idx, UserWarning)\n",
      "/Users/gabriel_goncalves/Desktop/Trabalho_SI/venv_py_3_12/lib/python3.12/site-packages/sklearn/feature_selection/_univariate_selection.py:112: RuntimeWarning: invalid value encountered in divide\n",
      "  f = msb / msw\n"
     ]
    },
    {
     "data": {
      "text/html": [
       "<style>#sk-container-id-1 {\n",
       "  /* Definition of color scheme common for light and dark mode */\n",
       "  --sklearn-color-text: #000;\n",
       "  --sklearn-color-text-muted: #666;\n",
       "  --sklearn-color-line: gray;\n",
       "  /* Definition of color scheme for unfitted estimators */\n",
       "  --sklearn-color-unfitted-level-0: #fff5e6;\n",
       "  --sklearn-color-unfitted-level-1: #f6e4d2;\n",
       "  --sklearn-color-unfitted-level-2: #ffe0b3;\n",
       "  --sklearn-color-unfitted-level-3: chocolate;\n",
       "  /* Definition of color scheme for fitted estimators */\n",
       "  --sklearn-color-fitted-level-0: #f0f8ff;\n",
       "  --sklearn-color-fitted-level-1: #d4ebff;\n",
       "  --sklearn-color-fitted-level-2: #b3dbfd;\n",
       "  --sklearn-color-fitted-level-3: cornflowerblue;\n",
       "\n",
       "  /* Specific color for light theme */\n",
       "  --sklearn-color-text-on-default-background: var(--sg-text-color, var(--theme-code-foreground, var(--jp-content-font-color1, black)));\n",
       "  --sklearn-color-background: var(--sg-background-color, var(--theme-background, var(--jp-layout-color0, white)));\n",
       "  --sklearn-color-border-box: var(--sg-text-color, var(--theme-code-foreground, var(--jp-content-font-color1, black)));\n",
       "  --sklearn-color-icon: #696969;\n",
       "\n",
       "  @media (prefers-color-scheme: dark) {\n",
       "    /* Redefinition of color scheme for dark theme */\n",
       "    --sklearn-color-text-on-default-background: var(--sg-text-color, var(--theme-code-foreground, var(--jp-content-font-color1, white)));\n",
       "    --sklearn-color-background: var(--sg-background-color, var(--theme-background, var(--jp-layout-color0, #111)));\n",
       "    --sklearn-color-border-box: var(--sg-text-color, var(--theme-code-foreground, var(--jp-content-font-color1, white)));\n",
       "    --sklearn-color-icon: #878787;\n",
       "  }\n",
       "}\n",
       "\n",
       "#sk-container-id-1 {\n",
       "  color: var(--sklearn-color-text);\n",
       "}\n",
       "\n",
       "#sk-container-id-1 pre {\n",
       "  padding: 0;\n",
       "}\n",
       "\n",
       "#sk-container-id-1 input.sk-hidden--visually {\n",
       "  border: 0;\n",
       "  clip: rect(1px 1px 1px 1px);\n",
       "  clip: rect(1px, 1px, 1px, 1px);\n",
       "  height: 1px;\n",
       "  margin: -1px;\n",
       "  overflow: hidden;\n",
       "  padding: 0;\n",
       "  position: absolute;\n",
       "  width: 1px;\n",
       "}\n",
       "\n",
       "#sk-container-id-1 div.sk-dashed-wrapped {\n",
       "  border: 1px dashed var(--sklearn-color-line);\n",
       "  margin: 0 0.4em 0.5em 0.4em;\n",
       "  box-sizing: border-box;\n",
       "  padding-bottom: 0.4em;\n",
       "  background-color: var(--sklearn-color-background);\n",
       "}\n",
       "\n",
       "#sk-container-id-1 div.sk-container {\n",
       "  /* jupyter's `normalize.less` sets `[hidden] { display: none; }`\n",
       "     but bootstrap.min.css set `[hidden] { display: none !important; }`\n",
       "     so we also need the `!important` here to be able to override the\n",
       "     default hidden behavior on the sphinx rendered scikit-learn.org.\n",
       "     See: https://github.com/scikit-learn/scikit-learn/issues/21755 */\n",
       "  display: inline-block !important;\n",
       "  position: relative;\n",
       "}\n",
       "\n",
       "#sk-container-id-1 div.sk-text-repr-fallback {\n",
       "  display: none;\n",
       "}\n",
       "\n",
       "div.sk-parallel-item,\n",
       "div.sk-serial,\n",
       "div.sk-item {\n",
       "  /* draw centered vertical line to link estimators */\n",
       "  background-image: linear-gradient(var(--sklearn-color-text-on-default-background), var(--sklearn-color-text-on-default-background));\n",
       "  background-size: 2px 100%;\n",
       "  background-repeat: no-repeat;\n",
       "  background-position: center center;\n",
       "}\n",
       "\n",
       "/* Parallel-specific style estimator block */\n",
       "\n",
       "#sk-container-id-1 div.sk-parallel-item::after {\n",
       "  content: \"\";\n",
       "  width: 100%;\n",
       "  border-bottom: 2px solid var(--sklearn-color-text-on-default-background);\n",
       "  flex-grow: 1;\n",
       "}\n",
       "\n",
       "#sk-container-id-1 div.sk-parallel {\n",
       "  display: flex;\n",
       "  align-items: stretch;\n",
       "  justify-content: center;\n",
       "  background-color: var(--sklearn-color-background);\n",
       "  position: relative;\n",
       "}\n",
       "\n",
       "#sk-container-id-1 div.sk-parallel-item {\n",
       "  display: flex;\n",
       "  flex-direction: column;\n",
       "}\n",
       "\n",
       "#sk-container-id-1 div.sk-parallel-item:first-child::after {\n",
       "  align-self: flex-end;\n",
       "  width: 50%;\n",
       "}\n",
       "\n",
       "#sk-container-id-1 div.sk-parallel-item:last-child::after {\n",
       "  align-self: flex-start;\n",
       "  width: 50%;\n",
       "}\n",
       "\n",
       "#sk-container-id-1 div.sk-parallel-item:only-child::after {\n",
       "  width: 0;\n",
       "}\n",
       "\n",
       "/* Serial-specific style estimator block */\n",
       "\n",
       "#sk-container-id-1 div.sk-serial {\n",
       "  display: flex;\n",
       "  flex-direction: column;\n",
       "  align-items: center;\n",
       "  background-color: var(--sklearn-color-background);\n",
       "  padding-right: 1em;\n",
       "  padding-left: 1em;\n",
       "}\n",
       "\n",
       "\n",
       "/* Toggleable style: style used for estimator/Pipeline/ColumnTransformer box that is\n",
       "clickable and can be expanded/collapsed.\n",
       "- Pipeline and ColumnTransformer use this feature and define the default style\n",
       "- Estimators will overwrite some part of the style using the `sk-estimator` class\n",
       "*/\n",
       "\n",
       "/* Pipeline and ColumnTransformer style (default) */\n",
       "\n",
       "#sk-container-id-1 div.sk-toggleable {\n",
       "  /* Default theme specific background. It is overwritten whether we have a\n",
       "  specific estimator or a Pipeline/ColumnTransformer */\n",
       "  background-color: var(--sklearn-color-background);\n",
       "}\n",
       "\n",
       "/* Toggleable label */\n",
       "#sk-container-id-1 label.sk-toggleable__label {\n",
       "  cursor: pointer;\n",
       "  display: flex;\n",
       "  width: 100%;\n",
       "  margin-bottom: 0;\n",
       "  padding: 0.5em;\n",
       "  box-sizing: border-box;\n",
       "  text-align: center;\n",
       "  align-items: start;\n",
       "  justify-content: space-between;\n",
       "  gap: 0.5em;\n",
       "}\n",
       "\n",
       "#sk-container-id-1 label.sk-toggleable__label .caption {\n",
       "  font-size: 0.6rem;\n",
       "  font-weight: lighter;\n",
       "  color: var(--sklearn-color-text-muted);\n",
       "}\n",
       "\n",
       "#sk-container-id-1 label.sk-toggleable__label-arrow:before {\n",
       "  /* Arrow on the left of the label */\n",
       "  content: \"▸\";\n",
       "  float: left;\n",
       "  margin-right: 0.25em;\n",
       "  color: var(--sklearn-color-icon);\n",
       "}\n",
       "\n",
       "#sk-container-id-1 label.sk-toggleable__label-arrow:hover:before {\n",
       "  color: var(--sklearn-color-text);\n",
       "}\n",
       "\n",
       "/* Toggleable content - dropdown */\n",
       "\n",
       "#sk-container-id-1 div.sk-toggleable__content {\n",
       "  max-height: 0;\n",
       "  max-width: 0;\n",
       "  overflow: hidden;\n",
       "  text-align: left;\n",
       "  /* unfitted */\n",
       "  background-color: var(--sklearn-color-unfitted-level-0);\n",
       "}\n",
       "\n",
       "#sk-container-id-1 div.sk-toggleable__content.fitted {\n",
       "  /* fitted */\n",
       "  background-color: var(--sklearn-color-fitted-level-0);\n",
       "}\n",
       "\n",
       "#sk-container-id-1 div.sk-toggleable__content pre {\n",
       "  margin: 0.2em;\n",
       "  border-radius: 0.25em;\n",
       "  color: var(--sklearn-color-text);\n",
       "  /* unfitted */\n",
       "  background-color: var(--sklearn-color-unfitted-level-0);\n",
       "}\n",
       "\n",
       "#sk-container-id-1 div.sk-toggleable__content.fitted pre {\n",
       "  /* unfitted */\n",
       "  background-color: var(--sklearn-color-fitted-level-0);\n",
       "}\n",
       "\n",
       "#sk-container-id-1 input.sk-toggleable__control:checked~div.sk-toggleable__content {\n",
       "  /* Expand drop-down */\n",
       "  max-height: 200px;\n",
       "  max-width: 100%;\n",
       "  overflow: auto;\n",
       "}\n",
       "\n",
       "#sk-container-id-1 input.sk-toggleable__control:checked~label.sk-toggleable__label-arrow:before {\n",
       "  content: \"▾\";\n",
       "}\n",
       "\n",
       "/* Pipeline/ColumnTransformer-specific style */\n",
       "\n",
       "#sk-container-id-1 div.sk-label input.sk-toggleable__control:checked~label.sk-toggleable__label {\n",
       "  color: var(--sklearn-color-text);\n",
       "  background-color: var(--sklearn-color-unfitted-level-2);\n",
       "}\n",
       "\n",
       "#sk-container-id-1 div.sk-label.fitted input.sk-toggleable__control:checked~label.sk-toggleable__label {\n",
       "  background-color: var(--sklearn-color-fitted-level-2);\n",
       "}\n",
       "\n",
       "/* Estimator-specific style */\n",
       "\n",
       "/* Colorize estimator box */\n",
       "#sk-container-id-1 div.sk-estimator input.sk-toggleable__control:checked~label.sk-toggleable__label {\n",
       "  /* unfitted */\n",
       "  background-color: var(--sklearn-color-unfitted-level-2);\n",
       "}\n",
       "\n",
       "#sk-container-id-1 div.sk-estimator.fitted input.sk-toggleable__control:checked~label.sk-toggleable__label {\n",
       "  /* fitted */\n",
       "  background-color: var(--sklearn-color-fitted-level-2);\n",
       "}\n",
       "\n",
       "#sk-container-id-1 div.sk-label label.sk-toggleable__label,\n",
       "#sk-container-id-1 div.sk-label label {\n",
       "  /* The background is the default theme color */\n",
       "  color: var(--sklearn-color-text-on-default-background);\n",
       "}\n",
       "\n",
       "/* On hover, darken the color of the background */\n",
       "#sk-container-id-1 div.sk-label:hover label.sk-toggleable__label {\n",
       "  color: var(--sklearn-color-text);\n",
       "  background-color: var(--sklearn-color-unfitted-level-2);\n",
       "}\n",
       "\n",
       "/* Label box, darken color on hover, fitted */\n",
       "#sk-container-id-1 div.sk-label.fitted:hover label.sk-toggleable__label.fitted {\n",
       "  color: var(--sklearn-color-text);\n",
       "  background-color: var(--sklearn-color-fitted-level-2);\n",
       "}\n",
       "\n",
       "/* Estimator label */\n",
       "\n",
       "#sk-container-id-1 div.sk-label label {\n",
       "  font-family: monospace;\n",
       "  font-weight: bold;\n",
       "  display: inline-block;\n",
       "  line-height: 1.2em;\n",
       "}\n",
       "\n",
       "#sk-container-id-1 div.sk-label-container {\n",
       "  text-align: center;\n",
       "}\n",
       "\n",
       "/* Estimator-specific */\n",
       "#sk-container-id-1 div.sk-estimator {\n",
       "  font-family: monospace;\n",
       "  border: 1px dotted var(--sklearn-color-border-box);\n",
       "  border-radius: 0.25em;\n",
       "  box-sizing: border-box;\n",
       "  margin-bottom: 0.5em;\n",
       "  /* unfitted */\n",
       "  background-color: var(--sklearn-color-unfitted-level-0);\n",
       "}\n",
       "\n",
       "#sk-container-id-1 div.sk-estimator.fitted {\n",
       "  /* fitted */\n",
       "  background-color: var(--sklearn-color-fitted-level-0);\n",
       "}\n",
       "\n",
       "/* on hover */\n",
       "#sk-container-id-1 div.sk-estimator:hover {\n",
       "  /* unfitted */\n",
       "  background-color: var(--sklearn-color-unfitted-level-2);\n",
       "}\n",
       "\n",
       "#sk-container-id-1 div.sk-estimator.fitted:hover {\n",
       "  /* fitted */\n",
       "  background-color: var(--sklearn-color-fitted-level-2);\n",
       "}\n",
       "\n",
       "/* Specification for estimator info (e.g. \"i\" and \"?\") */\n",
       "\n",
       "/* Common style for \"i\" and \"?\" */\n",
       "\n",
       ".sk-estimator-doc-link,\n",
       "a:link.sk-estimator-doc-link,\n",
       "a:visited.sk-estimator-doc-link {\n",
       "  float: right;\n",
       "  font-size: smaller;\n",
       "  line-height: 1em;\n",
       "  font-family: monospace;\n",
       "  background-color: var(--sklearn-color-background);\n",
       "  border-radius: 1em;\n",
       "  height: 1em;\n",
       "  width: 1em;\n",
       "  text-decoration: none !important;\n",
       "  margin-left: 0.5em;\n",
       "  text-align: center;\n",
       "  /* unfitted */\n",
       "  border: var(--sklearn-color-unfitted-level-1) 1pt solid;\n",
       "  color: var(--sklearn-color-unfitted-level-1);\n",
       "}\n",
       "\n",
       ".sk-estimator-doc-link.fitted,\n",
       "a:link.sk-estimator-doc-link.fitted,\n",
       "a:visited.sk-estimator-doc-link.fitted {\n",
       "  /* fitted */\n",
       "  border: var(--sklearn-color-fitted-level-1) 1pt solid;\n",
       "  color: var(--sklearn-color-fitted-level-1);\n",
       "}\n",
       "\n",
       "/* On hover */\n",
       "div.sk-estimator:hover .sk-estimator-doc-link:hover,\n",
       ".sk-estimator-doc-link:hover,\n",
       "div.sk-label-container:hover .sk-estimator-doc-link:hover,\n",
       ".sk-estimator-doc-link:hover {\n",
       "  /* unfitted */\n",
       "  background-color: var(--sklearn-color-unfitted-level-3);\n",
       "  color: var(--sklearn-color-background);\n",
       "  text-decoration: none;\n",
       "}\n",
       "\n",
       "div.sk-estimator.fitted:hover .sk-estimator-doc-link.fitted:hover,\n",
       ".sk-estimator-doc-link.fitted:hover,\n",
       "div.sk-label-container:hover .sk-estimator-doc-link.fitted:hover,\n",
       ".sk-estimator-doc-link.fitted:hover {\n",
       "  /* fitted */\n",
       "  background-color: var(--sklearn-color-fitted-level-3);\n",
       "  color: var(--sklearn-color-background);\n",
       "  text-decoration: none;\n",
       "}\n",
       "\n",
       "/* Span, style for the box shown on hovering the info icon */\n",
       ".sk-estimator-doc-link span {\n",
       "  display: none;\n",
       "  z-index: 9999;\n",
       "  position: relative;\n",
       "  font-weight: normal;\n",
       "  right: .2ex;\n",
       "  padding: .5ex;\n",
       "  margin: .5ex;\n",
       "  width: min-content;\n",
       "  min-width: 20ex;\n",
       "  max-width: 50ex;\n",
       "  color: var(--sklearn-color-text);\n",
       "  box-shadow: 2pt 2pt 4pt #999;\n",
       "  /* unfitted */\n",
       "  background: var(--sklearn-color-unfitted-level-0);\n",
       "  border: .5pt solid var(--sklearn-color-unfitted-level-3);\n",
       "}\n",
       "\n",
       ".sk-estimator-doc-link.fitted span {\n",
       "  /* fitted */\n",
       "  background: var(--sklearn-color-fitted-level-0);\n",
       "  border: var(--sklearn-color-fitted-level-3);\n",
       "}\n",
       "\n",
       ".sk-estimator-doc-link:hover span {\n",
       "  display: block;\n",
       "}\n",
       "\n",
       "/* \"?\"-specific style due to the `<a>` HTML tag */\n",
       "\n",
       "#sk-container-id-1 a.estimator_doc_link {\n",
       "  float: right;\n",
       "  font-size: 1rem;\n",
       "  line-height: 1em;\n",
       "  font-family: monospace;\n",
       "  background-color: var(--sklearn-color-background);\n",
       "  border-radius: 1rem;\n",
       "  height: 1rem;\n",
       "  width: 1rem;\n",
       "  text-decoration: none;\n",
       "  /* unfitted */\n",
       "  color: var(--sklearn-color-unfitted-level-1);\n",
       "  border: var(--sklearn-color-unfitted-level-1) 1pt solid;\n",
       "}\n",
       "\n",
       "#sk-container-id-1 a.estimator_doc_link.fitted {\n",
       "  /* fitted */\n",
       "  border: var(--sklearn-color-fitted-level-1) 1pt solid;\n",
       "  color: var(--sklearn-color-fitted-level-1);\n",
       "}\n",
       "\n",
       "/* On hover */\n",
       "#sk-container-id-1 a.estimator_doc_link:hover {\n",
       "  /* unfitted */\n",
       "  background-color: var(--sklearn-color-unfitted-level-3);\n",
       "  color: var(--sklearn-color-background);\n",
       "  text-decoration: none;\n",
       "}\n",
       "\n",
       "#sk-container-id-1 a.estimator_doc_link.fitted:hover {\n",
       "  /* fitted */\n",
       "  background-color: var(--sklearn-color-fitted-level-3);\n",
       "}\n",
       "</style><div id=\"sk-container-id-1\" class=\"sk-top-container\"><div class=\"sk-text-repr-fallback\"><pre>SelectKBest(k=23)</pre><b>In a Jupyter environment, please rerun this cell to show the HTML representation or trust the notebook. <br />On GitHub, the HTML representation is unable to render, please try loading this page with nbviewer.org.</b></div><div class=\"sk-container\" hidden><div class=\"sk-item\"><div class=\"sk-estimator fitted sk-toggleable\"><input class=\"sk-toggleable__control sk-hidden--visually\" id=\"sk-estimator-id-1\" type=\"checkbox\" checked><label for=\"sk-estimator-id-1\" class=\"sk-toggleable__label fitted sk-toggleable__label-arrow\"><div><div>SelectKBest</div></div><div><a class=\"sk-estimator-doc-link fitted\" rel=\"noreferrer\" target=\"_blank\" href=\"https://scikit-learn.org/1.6/modules/generated/sklearn.feature_selection.SelectKBest.html\">?<span>Documentation for SelectKBest</span></a><span class=\"sk-estimator-doc-link fitted\">i<span>Fitted</span></span></div></label><div class=\"sk-toggleable__content fitted\"><pre>SelectKBest(k=23)</pre></div> </div></div></div></div>"
      ],
      "text/plain": [
       "SelectKBest(k=23)"
      ]
     },
     "execution_count": 19,
     "metadata": {},
     "output_type": "execute_result"
    }
   ],
   "source": [
    "# using SelectKBest and f_classif to choose most relevants columns.\n",
    "from sklearn.feature_selection import SelectKBest , f_classif\n",
    "X = df.drop(axis=1, labels=\"Label\")\n",
    "y = df[\"Label\"]\n",
    "\n",
    "selector = SelectKBest(score_func=f_classif, k=23)\n",
    "selector.fit(X, y)"
   ]
  },
  {
   "cell_type": "code",
   "execution_count": 20,
   "metadata": {},
   "outputs": [],
   "source": [
    "mask = selector.get_support()\n",
    "\n",
    "# Create a new DF with only K bests columns\n",
    "df_selected = X.loc[:, mask]"
   ]
  },
  {
   "cell_type": "code",
   "execution_count": 21,
   "metadata": {},
   "outputs": [
    {
     "name": "stderr",
     "output_type": "stream",
     "text": [
      "/var/folders/xc/cl991pz94vlfh_4hrlpwhgbm0000gn/T/ipykernel_62605/511120660.py:1: SettingWithCopyWarning: \n",
      "A value is trying to be set on a copy of a slice from a DataFrame.\n",
      "Try using .loc[row_indexer,col_indexer] = value instead\n",
      "\n",
      "See the caveats in the documentation: https://pandas.pydata.org/pandas-docs/stable/user_guide/indexing.html#returning-a-view-versus-a-copy\n",
      "  df_selected[\"Label\"]= y\n"
     ]
    }
   ],
   "source": [
    "df_selected[\"Label\"]= y"
   ]
  },
  {
   "cell_type": "code",
   "execution_count": 22,
   "metadata": {},
   "outputs": [],
   "source": [
    "#NAO USANDO NO MOMENTO\n",
    "\n",
    "#import pandas as pd\n",
    "#import seaborn as sns\n",
    "#import matplotlib.pyplot as plt\n",
    "\n",
    "# Exemplo de DataFrame\n",
    "\n",
    "# Calcular a matriz de correlação\n",
    "#correlation_matrix = df_selected.corr()\n",
    "\n",
    "# Exibir a matriz de correlação\n",
    "#print(correlation_matrix)\n",
    "\n",
    "# Visualizar a matriz de correlação usando um mapa de calor (heatmap)\n",
    "#sns.heatmap(correlation_matrix, annot=True, cmap='coolwarm', linewidths=0.5)\n",
    "#plt.title('Matriz de Correlação')\n",
    "#plt.show()"
   ]
  },
  {
   "cell_type": "code",
   "execution_count": 23,
   "metadata": {},
   "outputs": [
    {
     "name": "stdout",
     "output_type": "stream",
     "text": [
      "<class 'pandas.core.frame.DataFrame'>\n",
      "Index: 4665966 entries, 0 to 953097\n",
      "Data columns (total 24 columns):\n",
      " #   Column                  Dtype  \n",
      "---  ------                  -----  \n",
      " 0   Destination Port        int64  \n",
      " 1   Flow Duration           int64  \n",
      " 2   Bwd Packet Length Max   int64  \n",
      " 3   Bwd Packet Length Min   int64  \n",
      " 4   Bwd Packet Length Mean  float64\n",
      " 5   Bwd Packet Length Std   float64\n",
      " 6   Flow IAT Mean           float64\n",
      " 7   Flow IAT Std            float64\n",
      " 8   Flow IAT Max            int64  \n",
      " 9   Fwd IAT Total           int64  \n",
      " 10  Fwd IAT Std             float64\n",
      " 11  Fwd IAT Max             int64  \n",
      " 12  Min Packet Length       int64  \n",
      " 13  Max Packet Length       int64  \n",
      " 14  Packet Length Mean      float64\n",
      " 15  Packet Length Std       float64\n",
      " 16  Packet Length Variance  float64\n",
      " 17  ACK Flag Count          int64  \n",
      " 18  Average Packet Size     float64\n",
      " 19  Avg Bwd Segment Size    float64\n",
      " 20  Idle Mean               float64\n",
      " 21  Idle Max                int64  \n",
      " 22  Idle Min                int64  \n",
      " 23  Label                   int64  \n",
      "dtypes: float64(11), int64(13)\n",
      "memory usage: 890.0 MB\n"
     ]
    }
   ],
   "source": [
    "\n",
    "df_selected.info()"
   ]
  },
  {
   "cell_type": "code",
   "execution_count": 24,
   "metadata": {},
   "outputs": [
    {
     "data": {
      "text/plain": [
       "Index(['Destination Port', 'Flow Duration', 'Bwd Packet Length Max',\n",
       "       'Bwd Packet Length Min', 'Bwd Packet Length Mean',\n",
       "       'Bwd Packet Length Std', 'Flow IAT Mean', 'Flow IAT Std',\n",
       "       'Flow IAT Max', 'Fwd IAT Total', 'Fwd IAT Std', 'Fwd IAT Max',\n",
       "       'Min Packet Length', 'Max Packet Length', 'Packet Length Mean',\n",
       "       'Packet Length Std', 'Packet Length Variance', 'ACK Flag Count',\n",
       "       'Average Packet Size', 'Avg Bwd Segment Size', 'Idle Mean', 'Idle Max',\n",
       "       'Idle Min', 'Label'],\n",
       "      dtype='object')"
      ]
     },
     "execution_count": 24,
     "metadata": {},
     "output_type": "execute_result"
    }
   ],
   "source": [
    "df_selected.columns"
   ]
  },
  {
   "cell_type": "code",
   "execution_count": 25,
   "metadata": {},
   "outputs": [],
   "source": [
    "df= df_selected"
   ]
  },
  {
   "cell_type": "code",
   "execution_count": 26,
   "metadata": {},
   "outputs": [
    {
     "data": {
      "text/plain": [
       "Label\n",
       "0    2332983\n",
       "1    2332983\n",
       "Name: count, dtype: int64"
      ]
     },
     "execution_count": 26,
     "metadata": {},
     "output_type": "execute_result"
    }
   ],
   "source": [
    "df[\"Label\"].value_counts()"
   ]
  },
  {
   "cell_type": "code",
   "execution_count": 27,
   "metadata": {},
   "outputs": [],
   "source": [
    "df = df_balanced"
   ]
  },
  {
   "cell_type": "markdown",
   "metadata": {},
   "source": [
    "## Model"
   ]
  },
  {
   "cell_type": "code",
   "execution_count": 28,
   "metadata": {},
   "outputs": [],
   "source": [
    "#imports for Model\n",
    "from sklearn.decomposition import PCA\n",
    "from sklearn.preprocessing import StandardScaler\n",
    "from sklearn.model_selection import train_test_split\n",
    "from sklearn.tree import DecisionTreeClassifier\n",
    "from sklearn.metrics import accuracy_score\n",
    "from sklearn.model_selection import cross_val_score\n",
    "import numpy as np\n"
   ]
  },
  {
   "cell_type": "code",
   "execution_count": 29,
   "metadata": {},
   "outputs": [],
   "source": [
    "\n",
    "\n",
    "X = df_selected.drop(axis=1, labels=\"Label\")\n",
    "y = df_selected[\"Label\"]\n",
    "#scaler = StandardScaler()\n",
    "#X_scaled = scaler.fit_transform(X)\n",
    "#pca = PCA(n_components=6)\n",
    "#X_pca = pca.fit_transform(X)\n",
    "X_train, X_test, y_train, y_test = train_test_split(X, y, test_size=0.25, random_state=17,shuffle=True)"
   ]
  },
  {
   "cell_type": "code",
   "execution_count": 30,
   "metadata": {},
   "outputs": [
    {
     "name": "stdout",
     "output_type": "stream",
     "text": [
      "Scores: [0.9914873  0.98562357 0.98624509 0.95553122 0.99133299 0.99237029\n",
      " 0.99156015 0.99051856 0.99052071 0.992471  ]\n",
      "Média dos scores: 0.9867660883097031\n",
      "Variância dos scores: 0.00011354547256627219\n",
      "Desvio padrão dos scores: 0.010655771795898793\n"
     ]
    }
   ],
   "source": [
    "\n",
    "clf = DecisionTreeClassifier(random_state=17, max_depth=10)\n",
    "#clf.fit(X, y)\n",
    "scores = cross_val_score(clf, X, y, cv=10)\n",
    "mean_score = np.mean(scores)\n",
    "var_score = np.var(scores)\n",
    "std_dev_score = np.std(scores)\n",
    "\n",
    "print(\"Scores:\", scores)\n",
    "print(\"Média dos scores:\", mean_score)\n",
    "print(\"Variância dos scores:\", var_score)\n",
    "print(\"Desvio padrão dos scores:\", std_dev_score)"
   ]
  },
  {
   "cell_type": "code",
   "execution_count": 31,
   "metadata": {},
   "outputs": [],
   "source": [
    "from sklearn.ensemble import RandomForestClassifier\n",
    "model = RandomForestClassifier(\n",
    "    random_state=17,\n",
    "    max_depth=17,                \n",
    "    min_samples_split=10,       \n",
    "    min_samples_leaf=5,        \n",
    "    max_features='sqrt'        \n",
    ")\n",
    "model.fit(X_train, y_train)\n",
    "\n",
    "y_pred = model.predict(X_test)\n"
   ]
  },
  {
   "cell_type": "code",
   "execution_count": 32,
   "metadata": {},
   "outputs": [
    {
     "data": {
      "text/plain": [
       "<bound method BaseEstimator.get_params of RandomForestClassifier(max_depth=17, min_samples_leaf=5, min_samples_split=10,\n",
       "                       random_state=17)>"
      ]
     },
     "execution_count": 32,
     "metadata": {},
     "output_type": "execute_result"
    }
   ],
   "source": [
    "model.get_params"
   ]
  },
  {
   "cell_type": "code",
   "execution_count": 33,
   "metadata": {},
   "outputs": [
    {
     "data": {
      "text/plain": [
       "{'bootstrap': True,\n",
       " 'ccp_alpha': 0.0,\n",
       " 'class_weight': None,\n",
       " 'criterion': 'gini',\n",
       " 'max_depth': 17,\n",
       " 'max_features': 'sqrt',\n",
       " 'max_leaf_nodes': None,\n",
       " 'max_samples': None,\n",
       " 'min_impurity_decrease': 0.0,\n",
       " 'min_samples_leaf': 5,\n",
       " 'min_samples_split': 10,\n",
       " 'min_weight_fraction_leaf': 0.0,\n",
       " 'monotonic_cst': None,\n",
       " 'n_estimators': 100,\n",
       " 'n_jobs': None,\n",
       " 'oob_score': False,\n",
       " 'random_state': 17,\n",
       " 'verbose': 0,\n",
       " 'warm_start': False}"
      ]
     },
     "execution_count": 33,
     "metadata": {},
     "output_type": "execute_result"
    }
   ],
   "source": [
    "model.get_params()"
   ]
  },
  {
   "cell_type": "code",
   "execution_count": 34,
   "metadata": {},
   "outputs": [
    {
     "name": "stdout",
     "output_type": "stream",
     "text": [
      "Acurácia no Treinamento: 0.9944\n",
      "Acurácia no Teste: 0.9943\n",
      "\n",
      "Relatório de Classificação (precision, recall, f1-score):\n",
      "              precision    recall  f1-score   support\n",
      "\n",
      "     Benigno       0.99      1.00      0.99    583032\n",
      "      Ataque       1.00      0.99      0.99    583460\n",
      "\n",
      "    accuracy                           0.99   1166492\n",
      "   macro avg       0.99      0.99      0.99   1166492\n",
      "weighted avg       0.99      0.99      0.99   1166492\n",
      "\n"
     ]
    },
    {
     "data": {
      "image/png": "[encoded data removed]",
      "text/plain": [
       "<Figure size 640x480 with 2 Axes>"
      ]
     },
     "metadata": {},
     "output_type": "display_data"
    },
    {
     "name": "stdout",
     "output_type": "stream",
     "text": [
      "Validação Cruzada (5-fold): Média = 0.9943, Desvio Padrão = 0.0001\n"
     ]
    }
   ],
   "source": [
    "from sklearn.metrics import accuracy_score, classification_report, confusion_matrix\n",
    "from sklearn.model_selection import cross_val_score\n",
    "import seaborn as sns\n",
    "import matplotlib.pyplot as plt\n",
    "\n",
    "# Treinamento do modelo\n",
    "#model = DecisionTreeClassifier(random_state=17)\n",
    "#model.fit(X_train, y_train)\n",
    "\n",
    "# Predições no conjunto de teste\n",
    "y_pred = model.predict(X_test)\n",
    "\n",
    "# Acurácia do treino e teste\n",
    "train_accuracy = accuracy_score(y_train, model.predict(X_train))\n",
    "test_accuracy = accuracy_score(y_test, y_pred)\n",
    "\n",
    "# Exibindo as métricas detalhadas (precisão, recall, f1-score)\n",
    "print(f'Acurácia no Treinamento: {train_accuracy:.4f}')\n",
    "print(f'Acurácia no Teste: {test_accuracy:.4f}')\n",
    "\n",
    "# Relatório de classificação\n",
    "print(\"\\nRelatório de Classificação (precision, recall, f1-score):\")\n",
    "print(classification_report(y_test, y_pred, target_names=[\"Benigno\", \"Ataque\"]))\n",
    "\n",
    "# Matriz de Confusão\n",
    "conf_matrix = confusion_matrix(y_test, y_pred)\n",
    "\n",
    "# Exibindo a matriz de confusão\n",
    "sns.heatmap(conf_matrix, annot=True, fmt='d', cmap='Blues', xticklabels=[\"Benigno\", \"Ataque\"], yticklabels=[\"Benigno\", \"Ataque\"])\n",
    "plt.title(\"Matriz de Confusão\")\n",
    "plt.ylabel('Valor Real')\n",
    "plt.xlabel('Valor Previsto')\n",
    "plt.show()\n",
    "\n",
    "# Validação Cruzada\n",
    "cv_scores = cross_val_score(model, X_train, y_train, cv=5)  # 5-fold cross-validation\n",
    "print(f'Validação Cruzada (5-fold): Média = {cv_scores.mean():.4f}, Desvio Padrão = {cv_scores.std():.4f}')"
   ]
  },
  {
   "cell_type": "code",
   "execution_count": 35,
   "metadata": {},
   "outputs": [
    {
     "name": "stdout",
     "output_type": "stream",
     "text": [
      "              precision    recall  f1-score   support\n",
      "\n",
      "           0       1.00      0.99      0.99    583032\n",
      "           1       0.99      1.00      0.99    583460\n",
      "\n",
      "    accuracy                           0.99   1166492\n",
      "   macro avg       0.99      0.99      0.99   1166492\n",
      "weighted avg       0.99      0.99      0.99   1166492\n",
      "\n",
      "[[576833   6199]\n",
      " [   879 582581]]\n"
     ]
    }
   ],
   "source": [
    "# Obter as probabilidades de cada classe\n",
    "y_prob = model.predict_proba(X_test)[:, 1]  # Probabilidade da classe 1 (ataque)\n",
    "# Ajuste do limiar para 0.3\n",
    "threshold = 0.3\n",
    "y_pred_adjusted = (y_prob >= threshold).astype(int)\n",
    "from sklearn.metrics import classification_report, confusion_matrix\n",
    "\n",
    "# Relatório de classificação\n",
    "print(classification_report(y_test, y_pred_adjusted))\n",
    "\n",
    "# Matriz de confusão\n",
    "cm = confusion_matrix(y_test, y_pred_adjusted)\n",
    "print(cm)"
   ]
  },
  {
   "cell_type": "code",
   "execution_count": 66,
   "metadata": {},
   "outputs": [
    {
     "data": {
      "image/png": "[encoded data removed]",
      "text/plain": [
       "<Figure size 640x480 with 2 Axes>"
      ]
     },
     "metadata": {},
     "output_type": "display_data"
    }
   ],
   "source": [
    "# Matriz de Confusão\n",
    "conf_matrix = confusion_matrix(y_test, y_pred_adjusted)\n",
    "\n",
    "# Exibindo a matriz de confusão\n",
    "sns.heatmap(conf_matrix, annot=True, fmt='d', cmap='Blues', xticklabels=[\"Benigno\", \"Ataque\"], yticklabels=[\"Benigno\", \"Ataque\"])\n",
    "plt.title(\"Matriz de Confusão com limiar 0.3\")\n",
    "plt.ylabel('Valor Real')\n",
    "plt.xlabel('Valor Previsto')\n",
    "plt.show()"
   ]
  },
  {
   "cell_type": "code",
   "execution_count": 37,
   "metadata": {},
   "outputs": [
    {
     "data": {
      "text/plain": [
       "['RF_Last_model.joblib']"
      ]
     },
     "execution_count": 37,
     "metadata": {},
     "output_type": "execute_result"
    }
   ],
   "source": [
    "joblib.dump(model, 'RF_Last_model.joblib')"
   ]
  },
  {
   "cell_type": "code",
   "execution_count": 38,
   "metadata": {},
   "outputs": [],
   "source": [
    "import matplotlib as plt"
   ]
  },
  {
   "cell_type": "code",
   "execution_count": 39,
   "metadata": {},
   "outputs": [
    {
     "data": {
      "text/plain": [
       "['random_forest_model_2-.joblib']"
      ]
     },
     "execution_count": 39,
     "metadata": {},
     "output_type": "execute_result"
    }
   ],
   "source": [
    "joblib.dump(clf, 'random_forest_model_2-.joblib')"
   ]
  },
  {
   "cell_type": "markdown",
   "metadata": {},
   "source": [
    "## Modelo ANN"
   ]
  },
  {
   "cell_type": "code",
   "execution_count": null,
   "metadata": {},
   "outputs": [],
   "source": [
    "import numpy as np\n",
    "from sklearn.model_selection import train_test_split\n",
    "from sklearn.preprocessing import StandardScaler\n",
    "import tensorflow as tf\n",
    "from tensorflow.keras.models import Sequential\n",
    "from tensorflow.keras.layers import Dense, Dropout, BatchNormalization\n",
    "from tensorflow.keras.regularizers import l2 , l1"
   ]
  },
  {
   "cell_type": "code",
   "execution_count": 41,
   "metadata": {},
   "outputs": [],
   "source": [
    "y= y.astype(bool)"
   ]
  },
  {
   "cell_type": "code",
   "execution_count": 54,
   "metadata": {},
   "outputs": [
    {
     "name": "stdout",
     "output_type": "stream",
     "text": [
      "Epoch 1/10\n"
     ]
    },
    {
     "name": "stderr",
     "output_type": "stream",
     "text": [
      "/Users/gabriel_goncalves/Desktop/Trabalho_SI/venv_py_3_12/lib/python3.12/site-packages/keras/src/layers/core/dense.py:87: UserWarning: Do not pass an `input_shape`/`input_dim` argument to a layer. When using Sequential models, prefer using an `Input(shape)` object as the first layer in the model instead.\n",
      "  super().__init__(activity_regularizer=activity_regularizer, **kwargs)\n"
     ]
    },
    {
     "name": "stdout",
     "output_type": "stream",
     "text": [
      "\u001b[1m82019/82019\u001b[0m \u001b[32m━━━━━━━━━━━━━━━━━━━━\u001b[0m\u001b[37m\u001b[0m \u001b[1m37s\u001b[0m 448us/step - accuracy: 0.8910 - loss: 0.2468 - val_accuracy: 0.9516 - val_loss: 0.1396\n",
      "Epoch 2/10\n",
      "\u001b[1m82019/82019\u001b[0m \u001b[32m━━━━━━━━━━━━━━━━━━━━\u001b[0m\u001b[37m\u001b[0m \u001b[1m37s\u001b[0m 452us/step - accuracy: 0.9138 - loss: 0.2031 - val_accuracy: 0.9527 - val_loss: 0.1339\n",
      "Epoch 3/10\n",
      "\u001b[1m82019/82019\u001b[0m \u001b[32m━━━━━━━━━━━━━━━━━━━━\u001b[0m\u001b[37m\u001b[0m \u001b[1m37s\u001b[0m 446us/step - accuracy: 0.9156 - loss: 0.1996 - val_accuracy: 0.9482 - val_loss: 0.1212\n",
      "Epoch 4/10\n",
      "\u001b[1m82019/82019\u001b[0m \u001b[32m━━━━━━━━━━━━━━━━━━━━\u001b[0m\u001b[37m\u001b[0m \u001b[1m37s\u001b[0m 454us/step - accuracy: 0.9180 - loss: 0.1954 - val_accuracy: 0.9728 - val_loss: 0.1141\n",
      "Epoch 5/10\n",
      "\u001b[1m82019/82019\u001b[0m \u001b[32m━━━━━━━━━━━━━━━━━━━━\u001b[0m\u001b[37m\u001b[0m \u001b[1m37s\u001b[0m 449us/step - accuracy: 0.9204 - loss: 0.1929 - val_accuracy: 0.9636 - val_loss: 0.1076\n",
      "Epoch 6/10\n",
      "\u001b[1m82019/82019\u001b[0m \u001b[32m━━━━━━━━━━━━━━━━━━━━\u001b[0m\u001b[37m\u001b[0m \u001b[1m35s\u001b[0m 423us/step - accuracy: 0.9224 - loss: 0.1890 - val_accuracy: 0.9617 - val_loss: 0.1081\n",
      "Epoch 7/10\n",
      "\u001b[1m82019/82019\u001b[0m \u001b[32m━━━━━━━━━━━━━━━━━━━━\u001b[0m\u001b[37m\u001b[0m \u001b[1m35s\u001b[0m 420us/step - accuracy: 0.9224 - loss: 0.1884 - val_accuracy: 0.9733 - val_loss: 0.1021\n",
      "Epoch 8/10\n",
      "\u001b[1m82019/82019\u001b[0m \u001b[32m━━━━━━━━━━━━━━━━━━━━\u001b[0m\u001b[37m\u001b[0m \u001b[1m35s\u001b[0m 427us/step - accuracy: 0.9234 - loss: 0.1859 - val_accuracy: 0.9586 - val_loss: 0.1118\n",
      "Epoch 9/10\n",
      "\u001b[1m82019/82019\u001b[0m \u001b[32m━━━━━━━━━━━━━━━━━━━━\u001b[0m\u001b[37m\u001b[0m \u001b[1m36s\u001b[0m 436us/step - accuracy: 0.9239 - loss: 0.1853 - val_accuracy: 0.9646 - val_loss: 0.1041\n",
      "Epoch 10/10\n",
      "\u001b[1m82019/82019\u001b[0m \u001b[32m━━━━━━━━━━━━━━━━━━━━\u001b[0m\u001b[37m\u001b[0m \u001b[1m35s\u001b[0m 425us/step - accuracy: 0.9238 - loss: 0.1837 - val_accuracy: 0.9730 - val_loss: 0.1055\n",
      "\u001b[1m36453/36453\u001b[0m \u001b[32m━━━━━━━━━━━━━━━━━━━━\u001b[0m\u001b[37m\u001b[0m \u001b[1m10s\u001b[0m 262us/step - accuracy: 0.9730 - loss: 0.1034\n",
      "\n",
      "Loss no teste: 0.1030\n",
      "Acurácia no teste: 0.9730\n"
     ]
    }
   ],
   "source": [
    "\n",
    "\n",
    "# 1. Dividindo os dados em treino e teste\n",
    "X_train, X_test, y_train, y_test = train_test_split(X, y, test_size=0.25, random_state=17, shuffle=True)\n",
    "\n",
    "# 2. Normalizando os dados (usando StandardScaler)\n",
    "scaler = StandardScaler()\n",
    "X_train = scaler.fit_transform(X_train)\n",
    "X_test = scaler.transform(X_test)\n",
    "\n",
    "# 3. Definindo o modelo \n",
    "model = Sequential([\n",
    "    Dense(16, input_dim=X_train.shape[1], activation='relu'),  \n",
    "\n",
    "    Dropout(0.5),  \n",
    "    Dense(8, activation='relu'),  \n",
    "\n",
    "    Dropout(0.5),\n",
    "      \n",
    "    Dense(1, activation='sigmoid')  #  nao precisa de relu pois so queremos 0 ou 1 \n",
    "])\n",
    "\n",
    "# 4. Definindo o EarlyStopping para evitar overfitting\n",
    "early_stopping = tf.keras.callbacks.EarlyStopping(\n",
    "    monitor='val_loss', patience=5, restore_best_weights=True\n",
    ")\n",
    "\n",
    "# 5. Compilando o modelo\n",
    "model.compile(optimizer=\"adam\",\n",
    "              loss=\"BinaryCrossentropy\",\n",
    "              metrics=['accuracy'])\n",
    "\n",
    "\n",
    "\n",
    "history = model.fit(\n",
    "    X_train, y_train, \n",
    "    validation_split=0.25,  \n",
    "    epochs=10,  \n",
    "    batch_size=32,\n",
    "     \n",
    "    verbose=1,\n",
    "    callbacks=[early_stopping]\n",
    ")\n",
    "\n",
    "# 7. Avaliação do modelo no conjunto de teste\n",
    "loss, accuracy = model.evaluate(X_test, y_test)\n",
    "print(f\"\\nLoss no teste: {loss:.4f}\")\n",
    "print(f\"Acurácia no teste: {accuracy:.4f}\")"
   ]
  },
  {
   "cell_type": "code",
   "execution_count": 75,
   "metadata": {},
   "outputs": [
    {
     "name": "stdout",
     "output_type": "stream",
     "text": [
      "\u001b[1m36453/36453\u001b[0m \u001b[32m━━━━━━━━━━━━━━━━━━━━\u001b[0m\u001b[37m\u001b[0m \u001b[1m7s\u001b[0m 193us/step\n",
      "Matriz de Confusão:\n",
      "[[567796  15236]\n",
      " [ 16202 567258]]\n",
      "\n",
      "Relatório de Classificação:\n",
      "              precision    recall  f1-score   support\n",
      "\n",
      "       False       0.97      0.97      0.97    583032\n",
      "        True       0.97      0.97      0.97    583460\n",
      "\n",
      "    accuracy                           0.97   1166492\n",
      "   macro avg       0.97      0.97      0.97   1166492\n",
      "weighted avg       0.97      0.97      0.97   1166492\n",
      "\n"
     ]
    }
   ],
   "source": [
    "from sklearn.metrics import confusion_matrix, classification_report\n",
    "\n",
    "# 6. Prevendo as classes para os dados de teste\n",
    "y_pred = (model.predict(X_test) > 0.5).astype(\"int32\")  # Previsões binárias (0 ou 1)\n",
    "\n",
    "# 7. Gerando a matriz de confusão\n",
    "cm = confusion_matrix(y_test, y_pred)\n",
    "print(\"Matriz de Confusão:\")\n",
    "print(cm)\n",
    "\n",
    "# 8. Gerando o relatório de classificação (precisão, recall, F1-score)\n",
    "cr = classification_report(y_test, y_pred)\n",
    "print(\"\\nRelatório de Classificação:\")\n",
    "print(cr)"
   ]
  },
  {
   "cell_type": "code",
   "execution_count": 71,
   "metadata": {},
   "outputs": [
    {
     "data": {
      "image/png": "[encoded data removed]",
      "text/plain": [
       "<Figure size 640x480 with 2 Axes>"
      ]
     },
     "metadata": {},
     "output_type": "display_data"
    }
   ],
   "source": [
    "# Matriz de Confusão\n",
    "conf_matrix = confusion_matrix(y_test, y_pred_adjusted)\n",
    "\n",
    "# Exibindo a matriz de confusão\n",
    "sns.heatmap(cm, annot=True, fmt='d', cmap='Reds', xticklabels=[\"Benigno\", \"Ataque\"], yticklabels=[\"Benigno\", \"Ataque\"])\n",
    "plt.title(\"Matriz de Confusão ANN\")\n",
    "plt.ylabel('Valor Real')\n",
    "plt.xlabel('Valor Previsto')\n",
    "plt.show()"
   ]
  },
  {
   "cell_type": "code",
   "execution_count": 57,
   "metadata": {},
   "outputs": [
    {
     "data": {
      "image/png": "[encoded data removed]",
      "text/plain": [
       "<Figure size 640x480 with 1 Axes>"
      ]
     },
     "metadata": {},
     "output_type": "display_data"
    }
   ],
   "source": [
    "# Acurácia no treinamento e teste\n",
    "train_accuracy = history.history['accuracy']\n",
    "val_accuracy = history.history['val_accuracy']\n",
    "\n",
    "plt.plot(train_accuracy, label='Treinamento')\n",
    "plt.plot(val_accuracy, label='Validação')\n",
    "plt.xlabel('Epochs')\n",
    "plt.ylabel('Acurácia')\n",
    "plt.legend()\n",
    "plt.title('Acurácia do Modelo: Treinamento vs Validação')\n",
    "plt.show()"
   ]
  },
  {
   "cell_type": "code",
   "execution_count": 58,
   "metadata": {},
   "outputs": [
    {
     "data": {
      "image/png": "[encoded data removed]",
      "text/plain": [
       "<Figure size 640x480 with 1 Axes>"
      ]
     },
     "metadata": {},
     "output_type": "display_data"
    }
   ],
   "source": [
    "# Perda no treinamento e validação\n",
    "train_loss = history.history['loss']\n",
    "val_loss = history.history['val_loss']\n",
    "\n",
    "plt.plot(train_loss, label='Treinamento')\n",
    "plt.plot(val_loss, label='Validação')\n",
    "plt.xlabel('Epochs')\n",
    "plt.ylabel('Perda')\n",
    "plt.legend()\n",
    "plt.title('Perda do Modelo: Treinamento vs Validação')\n",
    "plt.show()"
   ]
  },
  {
   "cell_type": "code",
   "execution_count": 59,
   "metadata": {},
   "outputs": [
    {
     "data": {
      "text/plain": [
       "[0.22102776169776917,\n",
       " 0.2019132822751999,\n",
       " 0.19863319396972656,\n",
       " 0.1951313316822052,\n",
       " 0.19157136976718903,\n",
       " 0.1887689083814621,\n",
       " 0.1873525083065033,\n",
       " 0.1857108473777771,\n",
       " 0.1847531646490097,\n",
       " 0.183834508061409]"
      ]
     },
     "execution_count": 59,
     "metadata": {},
     "output_type": "execute_result"
    }
   ],
   "source": [
    "train_loss"
   ]
  },
  {
   "cell_type": "code",
   "execution_count": 60,
   "metadata": {},
   "outputs": [
    {
     "data": {
      "text/plain": [
       "[0.13962455093860626,\n",
       " 0.13386254012584686,\n",
       " 0.12118031829595566,\n",
       " 0.11414898186922073,\n",
       " 0.10757958889007568,\n",
       " 0.10814816504716873,\n",
       " 0.10207381844520569,\n",
       " 0.11177325993776321,\n",
       " 0.1041400283575058,\n",
       " 0.10548245906829834]"
      ]
     },
     "execution_count": 60,
     "metadata": {},
     "output_type": "execute_result"
    }
   ],
   "source": [
    "val_loss"
   ]
  },
  {
   "cell_type": "code",
   "execution_count": 72,
   "metadata": {},
   "outputs": [
    {
     "data": {
      "text/plain": [
       "['ANN_model.joblib']"
      ]
     },
     "execution_count": 72,
     "metadata": {},
     "output_type": "execute_result"
    }
   ],
   "source": [
    "joblib.dump(model, 'ANN_model.joblib')"
   ]
  }
 ],
 "metadata": {
  "kernelspec": {
   "display_name": "venv_py_3_12",
   "language": "python",
   "name": "python3"
  },
  "language_info": {
   "codemirror_mode": {
    "name": "ipython",
    "version": 3
   },
   "file_extension": ".py",
   "mimetype": "text/x-python",
   "name": "python",
   "nbconvert_exporter": "python",
   "pygments_lexer": "ipython3",
   "version": "3.12.7"
  }
 },
 "nbformat": 4,
 "nbformat_minor": 2
}
